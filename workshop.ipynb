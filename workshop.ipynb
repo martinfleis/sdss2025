{
 "cells": [
  {
   "cell_type": "markdown",
   "id": "d93a254c",
   "metadata": {},
   "source": [
    "# Urban Morphology with Python: City Structure as Predictor and Target\n",
    "\n",
    "* [**Martin Fleischmann, PhD**](https://github.com/martinfleis)\n",
    "  * [Research Associate](https://martinfleischmann.net) @ the Charles University in Prague\n",
    "* [**James D. Gaboardi, PhD**](https://github.com/jGaboardi)\n",
    "  * [Associate R&D Scientist](https://www.ornl.gov/staff-profile/james-d-gaboardi) @ Oak Ridge National Laboratory\n",
    "\n",
    "[This workshop](https://github.com/martinfleis/sdss2025) walks you through assessment of urban form through urban morphometrics - quantitative characterisation of individual elements of urban form and their distribution in space. \n",
    "\n",
    "## Outline\n",
    "\n",
    "- Data retrieval\n",
    "- Data preprocessing\n",
    "    - Removing overlaps from building data\n",
    "    - Simplification of street networks\n",
    "- Measuring urban form\n",
    "    - Simple measurements\n",
    "    - Spatial graphs and their use\n",
    "    - Contextualisation\n",
    "- Urban form as a target - clustering\n",
    "- Urban form as a predictor - regression\n",
    "\n",
    "## Environment setup\n",
    "\n",
    "For instructions on how to setup the environment, please see the [README.md](https://github.com/martinfleis/sdss2025/blob/main/README.md)."
   ]
  },
  {
   "cell_type": "code",
   "execution_count": null,
   "id": "73ed3d9b",
   "metadata": {},
   "outputs": [],
   "source": [
    "import geopandas\n",
    "import geoplanar\n",
    "import libpysal\n",
    "import matplotlib.pyplot as plt\n",
    "import momepy\n",
    "import neatnet\n",
    "import osmnx\n",
    "import pandas\n",
    "import pandas as pd\n",
    "from bokeh.io import output_notebook\n",
    "from bokeh.plotting import show\n",
    "from clustergram import Clustergram\n",
    "from sklearn.linear_model import LinearRegression\n",
    "\n",
    "output_notebook()"
   ]
  },
  {
   "cell_type": "markdown",
   "id": "490b4767",
   "metadata": {},
   "source": [
    "Pick a place, ideally a town with a good coverage in OpenStreetMap and its local CRS."
   ]
  },
  {
   "cell_type": "code",
   "execution_count": null,
   "id": "4e4896be",
   "metadata": {},
   "outputs": [],
   "source": [
    "place = \"Bath, England\"\n",
    "local_crs = 27700"
   ]
  },
  {
   "cell_type": "markdown",
   "id": "fb365310",
   "metadata": {},
   "source": [
    "We can interactively explore the place we just selected."
   ]
  },
  {
   "cell_type": "code",
   "execution_count": null,
   "id": "88a9a453",
   "metadata": {},
   "outputs": [],
   "source": [
    "place_geom = geopandas.tools.geocode(\n",
    "    place, provider=\"nominatim\", user_agent=\"sdss2025-workshop\"\n",
    ")\n",
    "place_geom.explore()"
   ]
  },
  {
   "cell_type": "markdown",
   "id": "302887d3",
   "metadata": {},
   "source": [
    "## Input data\n",
    "\n",
    "We can use ``OSMnx`` to quickly download data from OpenStreetMap.\n",
    "\n",
    "### Buildings"
   ]
  },
  {
   "cell_type": "code",
   "execution_count": null,
   "id": "ed9876fc",
   "metadata": {},
   "outputs": [],
   "source": [
    "buildings = osmnx.features_from_place(place, tags={\"building\": True})\n",
    "buildings.head()"
   ]
  },
  {
   "cell_type": "markdown",
   "id": "ad87f21c",
   "metadata": {},
   "source": [
    "The OSM input may need a bit of cleaning to ensure only proper polygons are kept."
   ]
  },
  {
   "cell_type": "code",
   "execution_count": null,
   "id": "7d0d4d78",
   "metadata": {},
   "outputs": [],
   "source": [
    "buildings.geom_type.value_counts()"
   ]
  },
  {
   "cell_type": "code",
   "execution_count": null,
   "id": "25986e67",
   "metadata": {},
   "outputs": [],
   "source": [
    "buildings = buildings[buildings.geom_type == \"Polygon\"].reset_index(drop=True)"
   ]
  },
  {
   "cell_type": "markdown",
   "id": "d57bb146",
   "metadata": {},
   "source": [
    "And we should re-project the data from WGS84 to the local projection in meters (momepy default values assume meters not feet or degrees). We will also drop unnecessary columns."
   ]
  },
  {
   "cell_type": "code",
   "execution_count": null,
   "id": "8f9ff20c",
   "metadata": {},
   "outputs": [],
   "source": [
    "buildings = buildings[[\"geometry\"]].to_crs(local_crs)\n",
    "buildings.head()"
   ]
  },
  {
   "cell_type": "markdown",
   "id": "fcd656a7",
   "metadata": {},
   "source": [
    "#### Topology\n",
    "\n",
    "Buildings shall form a valid polygonal coverage - neighbouring buildings are edge-matched and there are no overlaps. Ideally, there should be no tiny (sliver) gaps between the polygons either but fixing that is beyond the scope of this workshop. Today, we will focus on overlaps only.\n",
    "\n",
    "An easy check if it is the case can be done via `geoplanar`, a package aimed at planarity enforcment and validation."
   ]
  },
  {
   "cell_type": "code",
   "execution_count": null,
   "id": "1204d4e5",
   "metadata": {},
   "outputs": [],
   "source": [
    "i, j = geoplanar.overlaps(buildings.geometry)"
   ]
  },
  {
   "cell_type": "markdown",
   "id": "e146b003",
   "metadata": {},
   "source": [
    "We can locate the buildings violating the coverage expectations."
   ]
  },
  {
   "cell_type": "code",
   "execution_count": null,
   "id": "480631c4",
   "metadata": {},
   "outputs": [],
   "source": [
    "buildings.iloc[i].explore(tiles=\"cartodb positron\", max_zoom=50, prefer_canvas=True)"
   ]
  },
  {
   "cell_type": "markdown",
   "id": "1614e4b4",
   "metadata": {},
   "source": [
    "#### Coverage enforcement\n",
    "\n",
    "First, we can trip overlaps. By default, the largest polygon is trimmed."
   ]
  },
  {
   "cell_type": "code",
   "execution_count": null,
   "id": "4bdf55ef",
   "metadata": {},
   "outputs": [],
   "source": [
    "buildings = geoplanar.trim_overlaps(buildings, strategy=\"largest\")"
   ]
  },
  {
   "cell_type": "markdown",
   "id": "99f8a6f4",
   "metadata": {},
   "source": [
    "Let's see if there are any remaining."
   ]
  },
  {
   "cell_type": "code",
   "execution_count": null,
   "id": "c2169299",
   "metadata": {},
   "outputs": [],
   "source": [
    "geoplanar.overlaps(buildings.geometry).shape"
   ]
  },
  {
   "cell_type": "markdown",
   "id": "05f12228",
   "metadata": {},
   "source": [
    "Try another run, this time trimming the smallest."
   ]
  },
  {
   "cell_type": "code",
   "execution_count": null,
   "id": "6d2493da",
   "metadata": {},
   "outputs": [],
   "source": [
    "buildings = geoplanar.trim_overlaps(buildings, strategy=\"smallest\")"
   ]
  },
  {
   "cell_type": "markdown",
   "id": "dfd0f750",
   "metadata": {},
   "source": [
    "And the outcome."
   ]
  },
  {
   "cell_type": "code",
   "execution_count": null,
   "id": "34703f22",
   "metadata": {},
   "outputs": [],
   "source": [
    "geoplanar.overlaps(buildings.geometry).shape"
   ]
  },
  {
   "cell_type": "markdown",
   "id": "8ca3a61b",
   "metadata": {},
   "source": [
    "Much better. `momepy` is relatively robust to small imprecisions, so we can go ahead.\n",
    "\n",
    "### Streets\n",
    "\n",
    "Similar operations are done with streets."
   ]
  },
  {
   "cell_type": "code",
   "execution_count": null,
   "id": "3e2bfc20",
   "metadata": {},
   "outputs": [],
   "source": [
    "osm_graph = osmnx.graph_from_place(place, network_type=\"drive\")\n",
    "osm_graph = osmnx.projection.project_graph(osm_graph, to_crs=local_crs)\n",
    "streets = osmnx.graph_to_gdfs(\n",
    "    osmnx.convert.to_undirected(osm_graph),\n",
    "    nodes=False,\n",
    "    edges=True,\n",
    "    node_geometry=False,\n",
    "    fill_edge_geometry=True,\n",
    ").reset_index(drop=True)\n",
    "streets.head()"
   ]
  },
  {
   "cell_type": "markdown",
   "id": "3a2c0ef1",
   "metadata": {},
   "source": [
    "Streets pre-processing is trickier as there are a lot of complicated cases that need to be simplified to turn transportation network into a morphological one. Luckliy, the `neatnet` package should solve this automagically for us. But first, check the current state, together with `neatnet`'s interpretation of what needs fixing."
   ]
  },
  {
   "cell_type": "code",
   "execution_count": null,
   "id": "9dee4b91",
   "metadata": {},
   "outputs": [],
   "source": [
    "ax = streets.explore(tiles=\"cartodb positron\")\n",
    "neatnet.get_artifacts(streets, threshold_fallback=7, exclusion_mask=buildings.geometry)[\n",
    "    0\n",
    "].explore(m=ax, color=\"red\")"
   ]
  },
  {
   "cell_type": "markdown",
   "id": "c28ca1a2",
   "metadata": {},
   "source": [
    "We can let `neatnet` fix these."
   ]
  },
  {
   "cell_type": "code",
   "execution_count": null,
   "id": "22cc15f1",
   "metadata": {},
   "outputs": [],
   "source": [
    "streets_neat = neatnet.neatify(streets, exclusion_mask=buildings.geometry)"
   ]
  },
  {
   "cell_type": "markdown",
   "id": "32ab32d0",
   "metadata": {},
   "source": [
    "And check the outcome."
   ]
  },
  {
   "cell_type": "code",
   "execution_count": null,
   "id": "2a5c599b",
   "metadata": {},
   "outputs": [],
   "source": [
    "m = streets.explore(tiles=\"cartodb positron\", color=\"red\")\n",
    "streets_neat.explore(m=m)"
   ]
  },
  {
   "cell_type": "code",
   "execution_count": null,
   "id": "f781dcf1",
   "metadata": {},
   "outputs": [],
   "source": [
    "streets = streets_neat[[\"geometry\"]].copy()"
   ]
  },
  {
   "cell_type": "markdown",
   "id": "7c81d9da",
   "metadata": {},
   "source": [
    "## Tessellation\n",
    "\n",
    "We still lack a spatial unit, so let's generate morphological tessellation."
   ]
  },
  {
   "cell_type": "code",
   "execution_count": null,
   "id": "c6cd5b8b",
   "metadata": {},
   "outputs": [],
   "source": [
    "limit = momepy.buffered_limit(buildings, 100)\n",
    "tessellation = momepy.morphological_tessellation(buildings, clip=limit)"
   ]
  },
  {
   "cell_type": "markdown",
   "id": "90c9d02e",
   "metadata": {},
   "source": [
    "OpenStreetMap data are often problematic due to low quality of some polygons. If some collapse, we get a mismatch between the length of buildings and the length of polygons."
   ]
  },
  {
   "cell_type": "code",
   "execution_count": null,
   "id": "0ef613b9",
   "metadata": {},
   "outputs": [],
   "source": [
    "collapsed, _ = momepy.verify_tessellation(tessellation, buildings)"
   ]
  },
  {
   "cell_type": "markdown",
   "id": "d8a74c78",
   "metadata": {},
   "source": [
    "Better to drop affected buildings and re-create tessellation."
   ]
  },
  {
   "cell_type": "code",
   "execution_count": null,
   "id": "dec921dd",
   "metadata": {},
   "outputs": [],
   "source": [
    "buildings = buildings.drop(collapsed).copy()\n",
    "tessellation = momepy.morphological_tessellation(buildings, clip=limit)"
   ]
  },
  {
   "cell_type": "markdown",
   "id": "e29b658f",
   "metadata": {},
   "source": [
    "The outcome may be a bit too heavy for an interactive visualisation, but let's try."
   ]
  },
  {
   "cell_type": "code",
   "execution_count": null,
   "id": "e32d56a1",
   "metadata": {},
   "outputs": [],
   "source": [
    "tessellation.geometry.explore(prefer_canvas=True)"
   ]
  },
  {
   "cell_type": "markdown",
   "id": "f2f1b65f",
   "metadata": {},
   "source": [
    "### Link streets\n",
    "\n",
    "Link unique IDs of streets to buildings and tessellation cells based on the nearest neighbor join."
   ]
  },
  {
   "cell_type": "code",
   "execution_count": null,
   "id": "3a763a94",
   "metadata": {},
   "outputs": [],
   "source": [
    "buildings[\"street_index\"] = momepy.get_nearest_street(\n",
    "    buildings, streets, max_distance=100\n",
    ")\n",
    "buildings"
   ]
  },
  {
   "cell_type": "markdown",
   "id": "32542ca5",
   "metadata": {},
   "source": [
    "Aattach the network index to the tessellation as well."
   ]
  },
  {
   "cell_type": "code",
   "execution_count": null,
   "id": "3eb5eb93",
   "metadata": {},
   "outputs": [],
   "source": [
    "tessellation[\"street_index\"] = buildings[\"street_index\"]"
   ]
  },
  {
   "cell_type": "markdown",
   "id": "d77acafa",
   "metadata": {},
   "source": [
    "## Measure\n",
    "\n",
    "Measure individual morphometric characters. For details see the User Guide and the API reference.\n",
    "\n",
    "### Dimensions"
   ]
  },
  {
   "cell_type": "code",
   "execution_count": null,
   "id": "c99596dd",
   "metadata": {},
   "outputs": [],
   "source": [
    "buildings[\"building_area\"] = buildings.area\n",
    "tessellation[\"tess_area\"] = tessellation.area\n",
    "streets[\"length\"] = streets.length"
   ]
  },
  {
   "cell_type": "markdown",
   "id": "3a75e099",
   "metadata": {},
   "source": [
    "### Shape"
   ]
  },
  {
   "cell_type": "code",
   "execution_count": null,
   "id": "f6fe32de",
   "metadata": {},
   "outputs": [],
   "source": [
    "buildings[\"eri\"] = momepy.equivalent_rectangular_index(buildings)\n",
    "buildings[\"elongation\"] = momepy.elongation(buildings)\n",
    "tessellation[\"convexity\"] = momepy.convexity(tessellation)\n",
    "streets[\"linearity\"] = momepy.linearity(streets)"
   ]
  },
  {
   "cell_type": "code",
   "execution_count": null,
   "id": "241dd90a",
   "metadata": {},
   "outputs": [],
   "source": [
    "fig, ax = plt.subplots(1, 2, figsize=(24, 12))\n",
    "\n",
    "buildings.plot(\"eri\", ax=ax[0], scheme=\"natural_breaks\", legend=True)\n",
    "buildings.plot(\"elongation\", ax=ax[1], scheme=\"natural_breaks\", legend=True)\n",
    "\n",
    "ax[0].set_axis_off()\n",
    "ax[1].set_axis_off()"
   ]
  },
  {
   "cell_type": "code",
   "execution_count": null,
   "id": "873d578a",
   "metadata": {},
   "outputs": [],
   "source": [
    "fig, ax = plt.subplots(1, 2, figsize=(24, 12))\n",
    "\n",
    "tessellation.plot(\"convexity\", ax=ax[0], scheme=\"natural_breaks\", legend=True)\n",
    "streets.plot(\"linearity\", ax=ax[1], scheme=\"natural_breaks\", legend=True)\n",
    "\n",
    "ax[0].set_axis_off()\n",
    "ax[1].set_axis_off()"
   ]
  },
  {
   "cell_type": "markdown",
   "id": "14777fdb",
   "metadata": {},
   "source": [
    "### Spatial distribution\n",
    "\n",
    "Measurements of spatial distribution take into account the relations between geometries."
   ]
  },
  {
   "cell_type": "code",
   "execution_count": null,
   "id": "d763242b",
   "metadata": {},
   "outputs": [],
   "source": [
    "buildings[\"shared_walls\"] = momepy.shared_walls(buildings) / buildings.length\n",
    "buildings.plot(\n",
    "    \"shared_walls\", figsize=(12, 12), scheme=\"natural_breaks\", legend=True\n",
    ").set_axis_off()"
   ]
  },
  {
   "cell_type": "markdown",
   "id": "f4a5988d",
   "metadata": {},
   "source": [
    "In some cases, those relations need to be identified first. Therefore, we need to build a spatial graph (e.g. contiguity) that captures them. Generate spatial graph using `libpysal`."
   ]
  },
  {
   "cell_type": "code",
   "execution_count": null,
   "id": "af8c3d83",
   "metadata": {},
   "outputs": [],
   "source": [
    "queen_1 = libpysal.graph.Graph.build_contiguity(tessellation, rook=False)"
   ]
  },
  {
   "cell_type": "markdown",
   "id": "5ce75b46",
   "metadata": {},
   "source": [
    "You can check how the resulting graph looks like. Even though we have generated it based on tessellation, you can explore it with buildings as the two share the index the graph is encoded by."
   ]
  },
  {
   "cell_type": "code",
   "execution_count": null,
   "id": "f69d20d3",
   "metadata": {},
   "outputs": [],
   "source": [
    "m = buildings.explore(tiles=\"cartodb positron\", prefer_canvas=True)\n",
    "queen_1.explore(buildings, m=m)"
   ]
  },
  {
   "cell_type": "markdown",
   "id": "77a2a32b",
   "metadata": {},
   "source": [
    "This allows us to measure variables where relation beyond intersection plays a role."
   ]
  },
  {
   "cell_type": "code",
   "execution_count": null,
   "id": "df404d5e",
   "metadata": {},
   "outputs": [],
   "source": [
    "tessellation[\"neighbors\"] = momepy.neighbors(tessellation, queen_1, weighted=True)\n",
    "tessellation[\"covered_area\"] = queen_1.describe(tessellation.area)[\"sum\"]\n",
    "buildings[\"neighbor_distance\"] = momepy.neighbor_distance(buildings, queen_1)"
   ]
  },
  {
   "cell_type": "code",
   "execution_count": null,
   "id": "02696132",
   "metadata": {},
   "outputs": [],
   "source": [
    "fig, ax = plt.subplots(1, 2, figsize=(24, 12))\n",
    "\n",
    "buildings.plot(\"neighbor_distance\", ax=ax[0], scheme=\"natural_breaks\", legend=True)\n",
    "tessellation.plot(\"covered_area\", ax=ax[1], scheme=\"natural_breaks\", legend=True)\n",
    "\n",
    "ax[0].set_axis_off()\n",
    "ax[1].set_axis_off()"
   ]
  },
  {
   "cell_type": "markdown",
   "id": "7d0fca8f",
   "metadata": {},
   "source": [
    "To capture a wider context, you can define it as higher order contiguity (or KNN, distance...)."
   ]
  },
  {
   "cell_type": "code",
   "execution_count": null,
   "id": "2d84b743",
   "metadata": {},
   "outputs": [],
   "source": [
    "queen_3 = queen_1.higher_order(3)\n",
    "buildings_q1 = libpysal.graph.Graph.build_contiguity(buildings, rook=False)"
   ]
  },
  {
   "cell_type": "markdown",
   "id": "4058cd5f",
   "metadata": {},
   "source": [
    "We have generated higher order contiguity and Queen contiguity on buidings. Check how it differs from the one generated on tessellation."
   ]
  },
  {
   "cell_type": "code",
   "execution_count": null,
   "id": "7456385e",
   "metadata": {},
   "outputs": [],
   "source": [
    "m = buildings.explore(tiles=\"cartodb positron\", prefer_canvas=True)\n",
    "buildings_q1.explore(buildings, m=m)"
   ]
  },
  {
   "cell_type": "markdown",
   "id": "6611fa73",
   "metadata": {},
   "source": [
    "Combining the two graphs, we can measure more complex spatial relations."
   ]
  },
  {
   "cell_type": "code",
   "execution_count": null,
   "id": "a6737191",
   "metadata": {},
   "outputs": [],
   "source": [
    "buildings[\"interbuilding_distance\"] = momepy.mean_interbuilding_distance(\n",
    "    buildings, queen_1, queen_3\n",
    ")\n",
    "buildings[\"adjacency\"] = momepy.building_adjacency(buildings_q1, queen_3)"
   ]
  },
  {
   "cell_type": "code",
   "execution_count": null,
   "id": "c8d8d8bb",
   "metadata": {},
   "outputs": [],
   "source": [
    "fig, ax = plt.subplots(1, 2, figsize=(24, 12))\n",
    "\n",
    "buildings.plot(\"interbuilding_distance\", ax=ax[0], scheme=\"natural_breaks\", legend=True)\n",
    "buildings.plot(\"adjacency\", ax=ax[1], scheme=\"natural_breaks\", legend=True)\n",
    "\n",
    "ax[0].set_axis_off()\n",
    "ax[1].set_axis_off()"
   ]
  },
  {
   "cell_type": "markdown",
   "id": "8c4b8eba",
   "metadata": {},
   "source": [
    "Considering streets and buildings together allows us to measure street profile."
   ]
  },
  {
   "cell_type": "code",
   "execution_count": null,
   "id": "51ebb171",
   "metadata": {},
   "outputs": [],
   "source": [
    "profile = momepy.street_profile(streets, buildings)\n",
    "streets[profile.columns] = profile"
   ]
  },
  {
   "cell_type": "code",
   "execution_count": null,
   "id": "5b36abf8",
   "metadata": {},
   "outputs": [],
   "source": [
    "fig, ax = plt.subplots(1, 3, figsize=(24, 12))\n",
    "\n",
    "streets.plot(\"width\", ax=ax[0], scheme=\"natural_breaks\", legend=True)\n",
    "streets.plot(\"width_deviation\", ax=ax[1], scheme=\"natural_breaks\", legend=True)\n",
    "streets.plot(\"openness\", ax=ax[2], scheme=\"natural_breaks\", legend=True)\n",
    "\n",
    "ax[0].set_axis_off()\n",
    "ax[1].set_axis_off()\n",
    "ax[2].set_axis_off()"
   ]
  },
  {
   "cell_type": "markdown",
   "id": "02f12808",
   "metadata": {},
   "source": [
    "### Intensity\n",
    "\n",
    "Density of development can be measured without `momepy` as a simple ratio of area of buildings to that of tessellation cells."
   ]
  },
  {
   "cell_type": "code",
   "execution_count": null,
   "id": "06f94fef",
   "metadata": {},
   "outputs": [],
   "source": [
    "tessellation[\"car\"] = buildings.area / tessellation.area\n",
    "tessellation.plot(\"car\", figsize=(12, 12), vmin=0, vmax=1, legend=True).set_axis_off()"
   ]
  },
  {
   "cell_type": "markdown",
   "id": "bf0d01ca",
   "metadata": {},
   "source": [
    "### Connectivity\n",
    "\n",
    "Another way of looking at urban form is through its street network."
   ]
  },
  {
   "cell_type": "code",
   "execution_count": null,
   "id": "a990951b",
   "metadata": {},
   "outputs": [],
   "source": [
    "graph = momepy.gdf_to_nx(streets)\n",
    "graph = momepy.node_degree(graph)\n",
    "graph = momepy.closeness_centrality(graph, radius=400, distance=\"mm_len\")\n",
    "graph = momepy.meshedness(graph, radius=400, distance=\"mm_len\")\n",
    "nodes, edges = momepy.nx_to_gdf(graph)"
   ]
  },
  {
   "cell_type": "code",
   "execution_count": null,
   "id": "f48a0c29",
   "metadata": {},
   "outputs": [],
   "source": [
    "fig, ax = plt.subplots(1, 3, figsize=(24, 12))\n",
    "\n",
    "nodes.plot(\"degree\", ax=ax[0], scheme=\"natural_breaks\", legend=True, markersize=1)\n",
    "nodes.plot(\n",
    "    \"closeness\",\n",
    "    ax=ax[1],\n",
    "    scheme=\"natural_breaks\",\n",
    "    legend=True,\n",
    "    markersize=1,\n",
    "    legend_kwds={\"fmt\": \"{:.6f}\"},\n",
    ")\n",
    "nodes.plot(\"meshedness\", ax=ax[2], scheme=\"natural_breaks\", legend=True, markersize=1)\n",
    "\n",
    "ax[0].set_axis_off()\n",
    "ax[1].set_axis_off()\n",
    "ax[2].set_axis_off()"
   ]
  },
  {
   "cell_type": "markdown",
   "id": "2190f57d",
   "metadata": {},
   "source": [
    "Link the streets and nodes to buildings to transfer the values."
   ]
  },
  {
   "cell_type": "code",
   "execution_count": null,
   "id": "56736ced",
   "metadata": {},
   "outputs": [],
   "source": [
    "buildings[\"edge_index\"] = momepy.get_nearest_street(buildings, edges)\n",
    "buildings[\"node_index\"] = momepy.get_nearest_node(\n",
    "    buildings, nodes, edges, buildings[\"edge_index\"]\n",
    ")"
   ]
  },
  {
   "cell_type": "markdown",
   "id": "fb8576e3",
   "metadata": {},
   "source": [
    "Link all data together (to tessellation cells or buildings)."
   ]
  },
  {
   "cell_type": "code",
   "execution_count": null,
   "id": "930373ae",
   "metadata": {},
   "outputs": [],
   "source": [
    "buildings[tessellation.columns.drop([\"geometry\", \"street_index\"])] = tessellation.drop(\n",
    "    columns=[\"geometry\", \"street_index\"]\n",
    ")\n",
    "merged = buildings.merge(\n",
    "    edges.drop(columns=\"geometry\"),\n",
    "    left_on=\"edge_index\",\n",
    "    right_index=True,\n",
    "    how=\"left\",\n",
    ")\n",
    "merged = merged.merge(\n",
    "    nodes.drop(columns=[\"geometry\", \"x\", \"y\"]),\n",
    "    left_on=\"node_index\",\n",
    "    right_index=True,\n",
    "    how=\"left\",\n",
    ")"
   ]
  },
  {
   "cell_type": "markdown",
   "id": "59e28c82",
   "metadata": {},
   "source": [
    "## Understanding the context\n",
    "\n",
    "Measure first, second and third quartile of distribution of values within an area around each building."
   ]
  },
  {
   "cell_type": "code",
   "execution_count": null,
   "id": "dcd2fa6c",
   "metadata": {},
   "outputs": [],
   "source": [
    "percentiles = []\n",
    "for column in merged.columns.drop(\n",
    "    [\n",
    "        \"street_index\",\n",
    "        \"node_index\",\n",
    "        \"edge_index\",\n",
    "        \"nodeID\",\n",
    "        \"mm_len\",\n",
    "        \"node_start\",\n",
    "        \"node_end\",\n",
    "        \"geometry\",\n",
    "    ]\n",
    "):\n",
    "    perc = momepy.percentile(merged[column], queen_3)\n",
    "    perc.columns = [f\"{column}_\" + str(x) for x in perc.columns]\n",
    "    percentiles.append(perc)"
   ]
  },
  {
   "cell_type": "markdown",
   "id": "66674613",
   "metadata": {},
   "source": [
    "Merge all together."
   ]
  },
  {
   "cell_type": "code",
   "execution_count": null,
   "id": "6605ac32",
   "metadata": {},
   "outputs": [],
   "source": [
    "percentiles_joined = pandas.concat(percentiles, axis=1)\n",
    "percentiles_joined.head()"
   ]
  },
  {
   "cell_type": "markdown",
   "id": "dd1e1aae",
   "metadata": {},
   "source": [
    "See the difference between original convexity and spatially lagged one."
   ]
  },
  {
   "cell_type": "code",
   "execution_count": null,
   "id": "d7a451b6",
   "metadata": {},
   "outputs": [],
   "source": [
    "fig, ax = plt.subplots(1, 2, figsize=(24, 12))\n",
    "\n",
    "buildings.plot(\"convexity\", ax=ax[0], scheme=\"natural_breaks\", legend=True)\n",
    "merged.plot(\n",
    "    percentiles_joined[\"convexity_50\"].values,\n",
    "    ax=ax[1],\n",
    "    scheme=\"natural_breaks\",\n",
    "    legend=True,\n",
    ")\n",
    "\n",
    "ax[0].set_axis_off()\n",
    "ax[1].set_axis_off()"
   ]
  },
  {
   "cell_type": "markdown",
   "id": "da530395",
   "metadata": {},
   "source": [
    "## Clustering\n",
    "\n",
    "Now we can use obtained values within a cluster analysis that should detect types of urban structure.\n",
    "\n",
    "Standardize values before clustering."
   ]
  },
  {
   "cell_type": "code",
   "execution_count": null,
   "id": "7ea4fa05",
   "metadata": {},
   "outputs": [],
   "source": [
    "standardized = (\n",
    "    percentiles_joined - percentiles_joined.mean()\n",
    ") / percentiles_joined.std()\n",
    "standardized.head()"
   ]
  },
  {
   "cell_type": "markdown",
   "id": "d750ea27",
   "metadata": {},
   "source": [
    "### How many clusters?\n",
    "\n",
    "To determine how many clusters we should aim for, we can use a little package called `clustergram`. See its [documentation](https://clustergram.readthedocs.io) for details."
   ]
  },
  {
   "cell_type": "code",
   "execution_count": null,
   "id": "35e4d78f",
   "metadata": {},
   "outputs": [],
   "source": [
    "cgram = Clustergram(range(1, 12), random_state=456, n_init=10)\n",
    "cgram.fit(standardized.fillna(0))\n",
    "\n",
    "show(cgram.bokeh())"
   ]
  },
  {
   "cell_type": "markdown",
   "id": "18a389b3",
   "metadata": {},
   "source": [
    "Clustegram gives us also the final labels. (Normally, you would run the final clustering on much larger number of initialisations.)"
   ]
  },
  {
   "cell_type": "code",
   "execution_count": null,
   "id": "ef66c0b2",
   "metadata": {},
   "outputs": [],
   "source": [
    "cgram.labels.head()"
   ]
  },
  {
   "cell_type": "markdown",
   "id": "d59a0c75",
   "metadata": {},
   "source": [
    "The first stable split seems to be 5."
   ]
  },
  {
   "cell_type": "code",
   "execution_count": null,
   "id": "cdef76b6",
   "metadata": {},
   "outputs": [],
   "source": [
    "merged[\"cluster\"] = cgram.labels[5].values\n",
    "buildings[\"cluster\"] = merged[\"cluster\"]\n",
    "buildings.plot(\n",
    "    \"cluster\", categorical=True, figsize=(16, 16), legend=True\n",
    ").set_axis_off()"
   ]
  },
  {
   "cell_type": "markdown",
   "id": "b9bd1b04",
   "metadata": {},
   "source": [
    "We can check when the city centre splits form the row houses."
   ]
  },
  {
   "cell_type": "code",
   "execution_count": null,
   "id": "c55ba4d9",
   "metadata": {},
   "outputs": [],
   "source": [
    "merged[\"cluster\"] = cgram.labels[8].values\n",
    "buildings[\"cluster\"] = merged[\"cluster\"]\n",
    "buildings.plot(\n",
    "    \"cluster\", categorical=True, figsize=(16, 16), legend=True\n",
    ").set_axis_off()"
   ]
  },
  {
   "cell_type": "markdown",
   "id": "afb63471",
   "metadata": {},
   "source": [
    "## Prediction\n",
    "\n",
    "Another application of this type of morphological data is prediction as morphology has power to predict certain urban phenomena. In this case, let's try to predict the index of multiple deprivation."
   ]
  },
  {
   "cell_type": "code",
   "execution_count": null,
   "id": "23652e5b",
   "metadata": {},
   "outputs": [],
   "source": [
    "imd = (\n",
    "    geopandas.read_file(\n",
    "        \"https://github.com/martinfleis/gisruk2025/raw/refs/heads/main/imd.gpkg\"\n",
    "    ).set_index(\"lsoa11cd\")\n",
    ")\n",
    "imd.head()"
   ]
  },
  {
   "cell_type": "markdown",
   "id": "a0bdc740",
   "metadata": {},
   "source": [
    "Let's focus on the most commonly reported value - rank."
   ]
  },
  {
   "cell_type": "code",
   "execution_count": null,
   "id": "47875d1c",
   "metadata": {},
   "outputs": [],
   "source": [
    "imd.explore(\"IMDRank0\", tiles=\"cartodb positron\")"
   ]
  },
  {
   "cell_type": "markdown",
   "id": "51843d24",
   "metadata": {},
   "source": [
    "We want to aggregate morphological data to LSOA. Get the LSOA ID on every building. "
   ]
  },
  {
   "cell_type": "code",
   "execution_count": null,
   "id": "0975be42",
   "metadata": {},
   "outputs": [],
   "source": [
    "merged = merged.sjoin(imd[[\"geometry\"]], how=\"left\")"
   ]
  },
  {
   "cell_type": "markdown",
   "id": "72f022b9",
   "metadata": {},
   "source": [
    "And group the data by LSOA, retrieving mean."
   ]
  },
  {
   "cell_type": "code",
   "execution_count": null,
   "id": "e3f3f5da",
   "metadata": {},
   "outputs": [],
   "source": [
    "grouper = merged.drop(\n",
    "    columns=[\n",
    "        \"street_index\",\n",
    "        \"node_index\",\n",
    "        \"edge_index\",\n",
    "        \"nodeID\",\n",
    "        \"mm_len\",\n",
    "        \"node_start\",\n",
    "        \"node_end\",\n",
    "        \"geometry\",\n",
    "    ]\n",
    ").groupby(\"lsoa11cd\")\n",
    "lsoa_mean = grouper.mean()"
   ]
  },
  {
   "cell_type": "markdown",
   "id": "b93c4122",
   "metadata": {},
   "source": [
    "This can be used as explanatory variables within a predictive model. We'll stick to simple linear regression, so standardization is due."
   ]
  },
  {
   "cell_type": "code",
   "execution_count": null,
   "id": "779edc44",
   "metadata": {},
   "outputs": [],
   "source": [
    "standardized = (lsoa_mean - lsoa_mean.mean()) / lsoa_mean.std()"
   ]
  },
  {
   "cell_type": "markdown",
   "id": "827e9209",
   "metadata": {},
   "source": [
    "Train the model."
   ]
  },
  {
   "cell_type": "code",
   "execution_count": null,
   "id": "75aa4a32",
   "metadata": {},
   "outputs": [],
   "source": [
    "lr = LinearRegression()\n",
    "lr.fit(standardized, imd.IMDRank0)"
   ]
  },
  {
   "cell_type": "markdown",
   "id": "b8629b22",
   "metadata": {},
   "source": [
    "We don't have to do train/test split as we are using regression (can't remember values as random forest might). So the performance can be measured directly on all of the data."
   ]
  },
  {
   "cell_type": "code",
   "execution_count": null,
   "id": "21b821f8",
   "metadata": {},
   "outputs": [],
   "source": [
    "lr.score(standardized, imd.IMDRank0)"
   ]
  },
  {
   "cell_type": "markdown",
   "id": "71affaa6",
   "metadata": {},
   "source": [
    "$R^2$ of 0.77 is not bad considering we have measured just a small subset of morphometrics. Let's compare the prediction to the expected outcome."
   ]
  },
  {
   "cell_type": "code",
   "execution_count": null,
   "id": "f05cad27",
   "metadata": {},
   "outputs": [],
   "source": [
    "prediction = lr.predict(standardized)\n",
    "residuals = imd.IMDRank0 - prediction"
   ]
  },
  {
   "cell_type": "code",
   "execution_count": null,
   "id": "d6410083",
   "metadata": {},
   "outputs": [],
   "source": [
    "fig, ax = plt.subplots(1, 3, figsize=(20, 12))\n",
    "\n",
    "max_red = residuals.abs().max()\n",
    "\n",
    "imd.plot(\n",
    "    \"IMDRank0\",\n",
    "    legend=True,\n",
    "    ax=ax[0],\n",
    "    vmin=0,\n",
    "    vmax=36000,\n",
    "    legend_kwds={\"shrink\": 0.5, \"orientation\": \"horizontal\"},\n",
    ")\n",
    "imd.plot(\n",
    "    prediction,\n",
    "    legend=True,\n",
    "    ax=ax[1],\n",
    "    vmin=0,\n",
    "    vmax=36000,\n",
    "    legend_kwds={\"shrink\": 0.5, \"orientation\": \"horizontal\"},\n",
    ")\n",
    "imd.plot(\n",
    "    residuals,\n",
    "    vmin=-max_red,\n",
    "    vmax=max_red,\n",
    "    cmap=\"RdBu\",\n",
    "    legend=True,\n",
    "    ax=ax[2],\n",
    "    legend_kwds={\"shrink\": 0.5, \"orientation\": \"horizontal\"},\n",
    ")\n",
    "\n",
    "ax[0].set_axis_off()\n",
    "ax[1].set_axis_off()\n",
    "ax[2].set_axis_off()\n",
    "\n",
    "ax[0].set_title(\"IMDRank0\")\n",
    "ax[1].set_title(\"Predicted IMDRank0\")\n",
    "ax[2].set_title(\"Residuals\")"
   ]
  },
  {
   "cell_type": "markdown",
   "id": "e456f967",
   "metadata": {},
   "source": [
    "It seems that the largest residuals are in areas which are next to those we predicted well. That may indicate spatial dependency in our data. Let's use it in our favour by including a spatial lag of our variables in the model. Build the contiguity graph."
   ]
  },
  {
   "cell_type": "code",
   "execution_count": null,
   "id": "fff9f6f1",
   "metadata": {},
   "outputs": [],
   "source": [
    "queen_lsoa = libpysal.graph.Graph.build_contiguity(imd, rook=False)"
   ]
  },
  {
   "cell_type": "code",
   "execution_count": null,
   "id": "7207bf09",
   "metadata": {},
   "outputs": [],
   "source": [
    "m = imd.explore(tiles='cartodb positron')\n",
    "queen_lsoa.explore(imd, m=m)"
   ]
  },
  {
   "cell_type": "markdown",
   "id": "47941740",
   "metadata": {},
   "source": [
    "Measure lags for all of the variables."
   ]
  },
  {
   "cell_type": "code",
   "execution_count": null,
   "id": "e747c7fc",
   "metadata": {},
   "outputs": [],
   "source": [
    "lags = {}\n",
    "for col in standardized.columns:\n",
    "    lags[f\"{col}_lag\"] = queen_lsoa.lag(standardized[col])\n",
    "\n",
    "data_with_lag = pd.concat(\n",
    "    [standardized, pd.DataFrame(lags, index=standardized.index)], axis=1\n",
    ")"
   ]
  },
  {
   "cell_type": "markdown",
   "id": "221c135e",
   "metadata": {},
   "source": [
    "And fit a new model that includes lagged variables alongside original."
   ]
  },
  {
   "cell_type": "code",
   "execution_count": null,
   "id": "cd7c3245",
   "metadata": {},
   "outputs": [],
   "source": [
    "lr_lag = LinearRegression()\n",
    "lr_lag.fit(data_with_lag, imd.IMDRank0)"
   ]
  },
  {
   "cell_type": "markdown",
   "id": "95da8366",
   "metadata": {},
   "source": [
    "See the performance."
   ]
  },
  {
   "cell_type": "code",
   "execution_count": null,
   "id": "8fad09bb",
   "metadata": {},
   "outputs": [],
   "source": [
    "lr_lag.score(data_with_lag, imd.IMDRank0)"
   ]
  },
  {
   "cell_type": "markdown",
   "id": "638eb9fe",
   "metadata": {},
   "source": [
    "0.9 is quite an improvement :). Let's visualise it, using the same color maps as above."
   ]
  },
  {
   "cell_type": "code",
   "execution_count": null,
   "id": "af73dbd5",
   "metadata": {},
   "outputs": [],
   "source": [
    "prediction_lag = lr_lag.predict(data_with_lag)\n",
    "residuals_lag = imd.IMDRank0 - prediction_lag"
   ]
  },
  {
   "cell_type": "code",
   "execution_count": null,
   "id": "f288e596",
   "metadata": {},
   "outputs": [],
   "source": [
    "fig, ax = plt.subplots(1, 3, figsize=(20, 12))\n",
    "\n",
    "imd.plot(\n",
    "    \"IMDRank0\",\n",
    "    legend=True,\n",
    "    ax=ax[0],\n",
    "    vmin=0,\n",
    "    vmax=36000,\n",
    "    legend_kwds={\"shrink\": 0.5, \"orientation\": \"horizontal\"},\n",
    ")\n",
    "imd.plot(\n",
    "    prediction_lag,\n",
    "    legend=True,\n",
    "    ax=ax[1],\n",
    "    vmin=0,\n",
    "    vmax=36000,\n",
    "    legend_kwds={\"shrink\": 0.5, \"orientation\": \"horizontal\"},\n",
    ")\n",
    "imd.plot(\n",
    "    residuals_lag,\n",
    "    vmin=-max_red,\n",
    "    vmax=max_red,\n",
    "    cmap=\"RdBu\",\n",
    "    legend=True,\n",
    "    ax=ax[2],\n",
    "    legend_kwds={\"shrink\": 0.5, \"orientation\": \"horizontal\"},\n",
    ")\n",
    "\n",
    "ax[0].set_axis_off()\n",
    "ax[1].set_axis_off()\n",
    "ax[2].set_axis_off()\n",
    "\n",
    "ax[0].set_title(\"IMDRank0\")\n",
    "ax[1].set_title(\"Predicted IMDRank0 (lagged)\")\n",
    "ax[2].set_title(\"Residuals (lagged)\")"
   ]
  },
  {
   "cell_type": "markdown",
   "id": "b4064815",
   "metadata": {},
   "source": [
    "## Where to now?\n",
    "\n",
    "We suggest spending some time in the documentation of [momepy](http://docs.momepy.org/), if you found this interesting.\n",
    "\n",
    "\n",
    "----------\n",
    "\n",
    "**Acknowledgements**\n",
    "\n",
    "* Copyright: This manuscript has been authored in part by UT-Battelle, LLC under Contract No. DE-AC05-00OR22725 with the U.S. Department of Energy. The United States Government retains and the publisher, by accepting the article for publication, acknowledges that the United States Government retains a non-exclusive, paid-up, irrevocable, world-wide license to publish or reproduce the published form of this manuscript, or allow others to do so, for United States Government purposes. The Department of Energy will provide public access to these results of federally sponsored research in accordance with the DOE Public Access Plan (`http://energy.gov/downloads/doe-public-access-plan`).\n"
   ]
  }
 ],
 "metadata": {
  "kernelspec": {
   "display_name": "Python 3 (ipykernel)",
   "language": "python",
   "name": "python3"
  },
  "language_info": {
   "codemirror_mode": {
    "name": "ipython",
    "version": 3
   },
   "file_extension": ".py",
   "mimetype": "text/x-python",
   "name": "python",
   "nbconvert_exporter": "python",
   "pygments_lexer": "ipython3",
   "version": "3.13.3"
  }
 },
 "nbformat": 4,
 "nbformat_minor": 5
}
